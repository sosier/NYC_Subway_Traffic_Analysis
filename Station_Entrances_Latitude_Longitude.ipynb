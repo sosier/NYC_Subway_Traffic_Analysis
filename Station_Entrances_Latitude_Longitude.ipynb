{
 "cells": [
  {
   "cell_type": "code",
   "execution_count": 2,
   "metadata": {
    "collapsed": true
   },
   "outputs": [],
   "source": [
    "from __future__ import division\n",
    "import csv\n",
    "from datetime import datetime\n",
    "from collections import Counter\n",
    "import re"
   ]
  },
  {
   "cell_type": "code",
   "execution_count": null,
   "metadata": {
    "collapsed": false
   },
   "outputs": [],
   "source": [
    "# !curl -O http://web.mta.info/developers/data/nyct/subway/StationEntrances.csv"
   ]
  },
  {
   "cell_type": "code",
   "execution_count": 24,
   "metadata": {
    "collapsed": false
   },
   "outputs": [],
   "source": [
    "with open('StationEntrances.csv') as f:\n",
    "    reader = csv.reader(f)\n",
    "    rows = [line[2:5] for line in reader]\n",
    "    new = [[re.sub(r\"(?<=\\d)(st|nd|rd|th)\\b\", '', i) for i in lst] for lst in rows]"
   ]
  },
  {
   "cell_type": "code",
   "execution_count": 39,
   "metadata": {
    "collapsed": false
   },
   "outputs": [],
   "source": [
    "#Isolates uniques since we got rid of all the multiple exits of the same stations\n",
    "uniquelists = [list(x) for x in set(tuple(x) for x in new)]\n",
    "\n",
    "#Replaced all \"Av\" with \"Ave\" in uniquelists\n",
    "aved =[[item.replace(\"Av\",\"Ave\") for item in line]for line in uniquelists]"
   ]
  },
  {
   "cell_type": "code",
   "execution_count": 40,
   "metadata": {
    "collapsed": false
   },
   "outputs": [],
   "source": [
    "## Outputs csv file \n",
    "writer = csv.writer(open('AvedStaLatLong.csv', 'w'))\n",
    "writer.writerows(aved)"
   ]
  }
 ],
 "metadata": {
  "kernelspec": {
   "display_name": "Python 3",
   "language": "python",
   "name": "python3"
  },
  "language_info": {
   "codemirror_mode": {
    "name": "ipython",
    "version": 3
   },
   "file_extension": ".py",
   "mimetype": "text/x-python",
   "name": "python",
   "nbconvert_exporter": "python",
   "pygments_lexer": "ipython3",
   "version": "3.4.3"
  }
 },
 "nbformat": 4,
 "nbformat_minor": 0
}
