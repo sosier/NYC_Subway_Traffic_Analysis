{
 "cells": [
  {
   "cell_type": "code",
   "execution_count": 11,
   "metadata": {
    "collapsed": true
   },
   "outputs": [],
   "source": [
    "from __future__ import division\n",
    "import csv\n",
    "from datetime import datetime\n",
    "from collections import Counter\n",
    "import re\n",
    "import string"
   ]
  },
  {
   "cell_type": "code",
   "execution_count": 72,
   "metadata": {
    "collapsed": true
   },
   "outputs": [],
   "source": [
    "def GetNearestZIPandIncome(zipDataList, stationLocList):\n",
    "    finalStationList = []\n",
    "\n",
    "    for station, stat_lat, stat_long in stationLocList:\n",
    "        nearestZIP = \"\"\n",
    "        nearestZIPDistance = 100 # something with dist vs this stopping iterations\n",
    "        nearestZIPIncome = \"\"\n",
    "\n",
    "        \n",
    "        for zipcode, zip_lat, zip_long, income in zipDataList:\n",
    "            dist = ((float(stat_lat) - float(zip_lat))**2 + (float(stat_long) - float(zip_long))**2)**(1/2)            \n",
    "            \n",
    "            if dist <= nearestZIPDistance:\n",
    "                nearestZIP = zipcode\n",
    "                nearestZIPDistance = dist\n",
    "                nearestZIPIncome = income\n",
    "        \n",
    "        finalStationList.append([station, stat_lat, stat_long, nearestZIP, \n",
    "                                 float(nearestZIPIncome)])\n",
    "\n",
    "    return finalStationList"
   ]
  },
  {
   "cell_type": "code",
   "execution_count": 73,
   "metadata": {
    "collapsed": false
   },
   "outputs": [],
   "source": [
    "## ['Zip Code', ' Latitude', ' Longitude', ' Avg.Income/Person']\n",
    "## already sorted high wealth to low\n",
    "with open('AffData.csv') as f:\n",
    "    reader = csv.reader(f)\n",
    "    next(reader)\n",
    "    \n",
    "    ##['Station_Name', 'Station_Latitude', 'Station_Longitude']\n",
    "\n",
    "    with open('AvedStaLatLong.csv') as f2:\n",
    "        reader2 = csv.reader(f2)\n",
    "        next(reader2)  \n",
    "        \n",
    "        zipreader = []\n",
    "        stationreader = []\n",
    "        \n",
    "        \n",
    "        for data in reader:\n",
    "            zipreader.append(data)\n",
    "        \n",
    "        for stuff in reader2:\n",
    "            stationreader.append(stuff)\n",
    "        \n",
    "        affstations = GetNearestZIPandIncome(zipreader,stationreader)\n",
    "        #print affstations\n",
    "        \n",
    "        aff_incomesort =  sorted(affstations, key = lambda x: x[4], reverse = True)\n",
    "        aff_stationsort =  sorted(affstations, key = lambda x: x[0], reverse = False)\n",
    "        aff_zipsort =  sorted(affstations, key = lambda x: x[3], reverse = False)     "
   ]
  },
  {
   "cell_type": "code",
   "execution_count": 74,
   "metadata": {
    "collapsed": false
   },
   "outputs": [],
   "source": [
    "writer = csv.writer(open('IncomeSorted.csv', 'w'))\n",
    "writer.writerows(aff_incomesort)"
   ]
  }
 ],
 "metadata": {
  "kernelspec": {
   "display_name": "Python 3",
   "language": "python",
   "name": "python3"
  },
  "language_info": {
   "codemirror_mode": {
    "name": "ipython",
    "version": 3
   },
   "file_extension": ".py",
   "mimetype": "text/x-python",
   "name": "python",
   "nbconvert_exporter": "python",
   "pygments_lexer": "ipython3",
   "version": "3.4.3"
  }
 },
 "nbformat": 4,
 "nbformat_minor": 0
}
